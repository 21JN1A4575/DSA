{
  "nbformat": 4,
  "nbformat_minor": 0,
  "metadata": {
    "colab": {
      "provenance": [],
      "authorship_tag": "ABX9TyOchFaLTBoT72BN91dpU4P9",
      "include_colab_link": true
    },
    "kernelspec": {
      "name": "python3",
      "display_name": "Python 3"
    },
    "language_info": {
      "name": "python"
    }
  },
  "cells": [
    {
      "cell_type": "markdown",
      "metadata": {
        "id": "view-in-github",
        "colab_type": "text"
      },
      "source": [
        "<a href=\"https://colab.research.google.com/github/21JN1A4575/DSA/blob/main/DSA_WITH_PYTHON.ipynb\" target=\"_parent\"><img src=\"https://colab.research.google.com/assets/colab-badge.svg\" alt=\"Open In Colab\"/></a>"
      ]
    },
    {
      "cell_type": "markdown",
      "source": [],
      "metadata": {
        "id": "E_M0my7HvJdl"
      }
    },
    {
      "cell_type": "code",
      "source": [
        "stack=[]\n",
        "stack.append(10)\n",
        "stack.append(20)\n",
        "stack.append(30)\n",
        "print(stack)\n",
        "stack.pop()\n",
        "print(stack)\n",
        "stack.pop()\n",
        "print(stack)\n",
        "stack.pop()\n",
        "print(stack)"
      ],
      "metadata": {
        "colab": {
          "base_uri": "https://localhost:8080/"
        },
        "id": "gIuxO2vOwUdS",
        "outputId": "4768e2fa-70b2-46d3-eade-b39905c684a3"
      },
      "execution_count": 3,
      "outputs": [
        {
          "output_type": "stream",
          "name": "stdout",
          "text": [
            "[10, 20, 30]\n",
            "[10, 20]\n",
            "[10]\n",
            "[]\n"
          ]
        }
      ]
    },
    {
      "cell_type": "code",
      "source": [
        "stack=[]\n",
        "def push():\n",
        "  element = int(input())\n",
        "  stack.append(element)\n",
        "  print(stack)\n",
        "def pop():\n",
        "  if len(stack)==0:\n",
        "    print(\"stack is empty\")\n",
        "  else:\n",
        "    print(stack.pop())\n",
        "    print(stack)\n",
        "while True:\n",
        "  print(\"select operation 1.push 2.pop 3.quit\")\n",
        "  choice = int(input())\n",
        "  if choice==1:\n",
        "    push()\n",
        "  elif choice==2:\n",
        "    pop()\n",
        "  elif choice==3:\n",
        "    break\n",
        "  else:\n",
        "    print(\"enter the correct operation\")\n"
      ],
      "metadata": {
        "colab": {
          "base_uri": "https://localhost:8080/"
        },
        "id": "ulXwVQoLvLcY",
        "outputId": "5bd6f506-0107-4254-f545-b7c99ca46fd9"
      },
      "execution_count": 4,
      "outputs": [
        {
          "name": "stdout",
          "output_type": "stream",
          "text": [
            "select operation 1.push 2.pop 3.quit\n",
            "1\n",
            "33\n",
            "[33]\n",
            "select operation 1.push 2.pop 3.quit\n",
            "1\n",
            "44\n",
            "[33, 44]\n",
            "select operation 1.push 2.pop 3.quit\n",
            "1\n",
            "55\n",
            "[33, 44, 55]\n",
            "select operation 1.push 2.pop 3.quit\n",
            "2\n",
            "55\n",
            "[33, 44]\n",
            "select operation 1.push 2.pop 3.quit\n",
            "2\n",
            "44\n",
            "[33]\n",
            "select operation 1.push 2.pop 3.quit\n",
            "2\n",
            "33\n",
            "[]\n",
            "select operation 1.push 2.pop 3.quit\n",
            "2\n",
            "stack is empty\n",
            "select operation 1.push 2.pop 3.quit\n",
            "3\n"
          ]
        }
      ]
    }
  ]
}